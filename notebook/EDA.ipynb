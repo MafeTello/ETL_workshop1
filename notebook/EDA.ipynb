{
 "cells": [
  {
   "cell_type": "markdown",
   "metadata": {},
   "source": [
    "<center> <font color=#3498DB><h2>EDA</h2></font>  <h2></h2> </center>"
   ]
  },
  {
   "cell_type": "code",
   "execution_count": 2,
   "metadata": {},
   "outputs": [],
   "source": [
    "import pandas as pd\n",
    "import matplotlib.pyplot as plt\n",
    "import sys\n",
    "sys.path.append('../src')\n",
    "import db_conection"
   ]
  },
  {
   "cell_type": "code",
   "execution_count": 3,
   "metadata": {},
   "outputs": [],
   "source": [
    "#leer db\n",
    "query = \"select * from candidates_raw\"\n",
    "dataframe_raw = pd.read_sql(sql=query, con = db_conection.conn())"
   ]
  },
  {
   "cell_type": "code",
   "execution_count": 4,
   "metadata": {},
   "outputs": [
    {
     "data": {
      "text/html": [
       "<div>\n",
       "<style scoped>\n",
       "    .dataframe tbody tr th:only-of-type {\n",
       "        vertical-align: middle;\n",
       "    }\n",
       "\n",
       "    .dataframe tbody tr th {\n",
       "        vertical-align: top;\n",
       "    }\n",
       "\n",
       "    .dataframe thead th {\n",
       "        text-align: right;\n",
       "    }\n",
       "</style>\n",
       "<table border=\"1\" class=\"dataframe\">\n",
       "  <thead>\n",
       "    <tr style=\"text-align: right;\">\n",
       "      <th></th>\n",
       "      <th>First Name</th>\n",
       "      <th>Last Name</th>\n",
       "      <th>Email</th>\n",
       "      <th>Application Date</th>\n",
       "      <th>Country</th>\n",
       "      <th>YOE</th>\n",
       "      <th>Seniority</th>\n",
       "      <th>Technology</th>\n",
       "      <th>Code Challenge Score</th>\n",
       "      <th>Technical Interview Score</th>\n",
       "    </tr>\n",
       "  </thead>\n",
       "  <tbody>\n",
       "    <tr>\n",
       "      <th>0</th>\n",
       "      <td>Bernadette</td>\n",
       "      <td>Langworth</td>\n",
       "      <td>leonard91@yahoo.com</td>\n",
       "      <td>2021-02-26</td>\n",
       "      <td>Norway</td>\n",
       "      <td>2</td>\n",
       "      <td>Intern</td>\n",
       "      <td>Data Engineer</td>\n",
       "      <td>3</td>\n",
       "      <td>3</td>\n",
       "    </tr>\n",
       "    <tr>\n",
       "      <th>1</th>\n",
       "      <td>Camryn</td>\n",
       "      <td>Reynolds</td>\n",
       "      <td>zelda56@hotmail.com</td>\n",
       "      <td>2021-09-09</td>\n",
       "      <td>Panama</td>\n",
       "      <td>10</td>\n",
       "      <td>Intern</td>\n",
       "      <td>Data Engineer</td>\n",
       "      <td>2</td>\n",
       "      <td>10</td>\n",
       "    </tr>\n",
       "    <tr>\n",
       "      <th>2</th>\n",
       "      <td>Larue</td>\n",
       "      <td>Spinka</td>\n",
       "      <td>okey_schultz41@gmail.com</td>\n",
       "      <td>2020-04-14</td>\n",
       "      <td>Belarus</td>\n",
       "      <td>4</td>\n",
       "      <td>Mid-Level</td>\n",
       "      <td>Client Success</td>\n",
       "      <td>10</td>\n",
       "      <td>9</td>\n",
       "    </tr>\n",
       "    <tr>\n",
       "      <th>3</th>\n",
       "      <td>Arch</td>\n",
       "      <td>Spinka</td>\n",
       "      <td>elvera_kulas@yahoo.com</td>\n",
       "      <td>2020-10-01</td>\n",
       "      <td>Eritrea</td>\n",
       "      <td>25</td>\n",
       "      <td>Trainee</td>\n",
       "      <td>QA Manual</td>\n",
       "      <td>7</td>\n",
       "      <td>1</td>\n",
       "    </tr>\n",
       "    <tr>\n",
       "      <th>4</th>\n",
       "      <td>Larue</td>\n",
       "      <td>Altenwerth</td>\n",
       "      <td>minnie.gislason@gmail.com</td>\n",
       "      <td>2020-05-20</td>\n",
       "      <td>Myanmar</td>\n",
       "      <td>13</td>\n",
       "      <td>Mid-Level</td>\n",
       "      <td>Social Media Community Management</td>\n",
       "      <td>9</td>\n",
       "      <td>7</td>\n",
       "    </tr>\n",
       "  </tbody>\n",
       "</table>\n",
       "</div>"
      ],
      "text/plain": [
       "   First Name   Last Name                      Email Application Date  \\\n",
       "0  Bernadette   Langworth        leonard91@yahoo.com       2021-02-26   \n",
       "1      Camryn    Reynolds        zelda56@hotmail.com       2021-09-09   \n",
       "2       Larue      Spinka   okey_schultz41@gmail.com       2020-04-14   \n",
       "3        Arch      Spinka     elvera_kulas@yahoo.com       2020-10-01   \n",
       "4       Larue  Altenwerth  minnie.gislason@gmail.com       2020-05-20   \n",
       "\n",
       "   Country  YOE  Seniority                         Technology  \\\n",
       "0   Norway    2     Intern                      Data Engineer   \n",
       "1   Panama   10     Intern                      Data Engineer   \n",
       "2  Belarus    4  Mid-Level                     Client Success   \n",
       "3  Eritrea   25    Trainee                          QA Manual   \n",
       "4  Myanmar   13  Mid-Level  Social Media Community Management   \n",
       "\n",
       "   Code Challenge Score  Technical Interview Score  \n",
       "0                     3                          3  \n",
       "1                     2                         10  \n",
       "2                    10                          9  \n",
       "3                     7                          1  \n",
       "4                     9                          7  "
      ]
     },
     "execution_count": 4,
     "metadata": {},
     "output_type": "execute_result"
    }
   ],
   "source": [
    "dataframe_raw.head()"
   ]
  },
  {
   "cell_type": "code",
   "execution_count": 5,
   "metadata": {},
   "outputs": [
    {
     "name": "stdout",
     "output_type": "stream",
     "text": [
      "<class 'pandas.core.frame.DataFrame'>\n",
      "RangeIndex: 50000 entries, 0 to 49999\n",
      "Data columns (total 10 columns):\n",
      " #   Column                     Non-Null Count  Dtype \n",
      "---  ------                     --------------  ----- \n",
      " 0   First Name                 50000 non-null  object\n",
      " 1   Last Name                  50000 non-null  object\n",
      " 2   Email                      50000 non-null  object\n",
      " 3   Application Date           50000 non-null  object\n",
      " 4   Country                    50000 non-null  object\n",
      " 5   YOE                        50000 non-null  int64 \n",
      " 6   Seniority                  50000 non-null  object\n",
      " 7   Technology                 50000 non-null  object\n",
      " 8   Code Challenge Score       50000 non-null  int64 \n",
      " 9   Technical Interview Score  50000 non-null  int64 \n",
      "dtypes: int64(3), object(7)\n",
      "memory usage: 3.8+ MB\n",
      "First Name: 3007 unique values\n",
      "Last Name: 474 unique values\n",
      "Email: 49833 unique values\n",
      "Application Date: 1646 unique values\n",
      "Country: 244 unique values\n",
      "YOE: 31 unique values\n",
      "Seniority: 7 unique values\n",
      "Technology: 24 unique values\n",
      "Code Challenge Score: 11 unique values\n",
      "Technical Interview Score: 11 unique values\n"
     ]
    }
   ],
   "source": [
    "# Descripción básica del dataframe\n",
    "dataframe_raw.info()\n",
    "\n",
    "# Estadísticas descriptivas\n",
    "dataframe_raw.describe()\n",
    "\n",
    "# Revisar valores únicos para cada columna\n",
    "for column in dataframe_raw.columns:\n",
    "    print(f\"{column}: {dataframe_raw[column].nunique()} unique values\")\n"
   ]
  },
  {
   "cell_type": "code",
   "execution_count": 6,
   "metadata": {},
   "outputs": [
    {
     "name": "stdout",
     "output_type": "stream",
     "text": [
      "First Name                   0\n",
      "Last Name                    0\n",
      "Email                        0\n",
      "Application Date             0\n",
      "Country                      0\n",
      "YOE                          0\n",
      "Seniority                    0\n",
      "Technology                   0\n",
      "Code Challenge Score         0\n",
      "Technical Interview Score    0\n",
      "dtype: int64\n",
      "Duplicated rows: 0\n"
     ]
    }
   ],
   "source": [
    "# Verificar si hay valores nulos en el dataframe\n",
    "print(dataframe_raw.isnull().sum())\n",
    "\n",
    "# Verificar si hay filas duplicadas\n",
    "print(f\"Duplicated rows: {dataframe_raw.duplicated().sum()}\")"
   ]
  },
  {
   "cell_type": "code",
   "execution_count": 7,
   "metadata": {},
   "outputs": [
    {
     "data": {
      "image/png": "[encoded data removed]",
      "text/plain": [
       "<Figure size 1000x600 with 4 Axes>"
      ]
     },
     "metadata": {},
     "output_type": "display_data"
    }
   ],
   "source": [
    "# Visualización de la Distribución de las Variables\n",
    "dataframe_raw[['YOE', 'Code Challenge Score', 'Technical Interview Score']].hist(bins=30, figsize=(10, 6))\n",
    "plt.show()"
   ]
  },
  {
   "cell_type": "code",
   "execution_count": 8,
   "metadata": {},
   "outputs": [
    {
     "data": {
      "image/png": "[encoded data removed]",
      "text/plain": [
       "<Figure size 640x480 with 1 Axes>"
      ]
     },
     "metadata": {},
     "output_type": "display_data"
    }
   ],
   "source": [
    "#Ya que hay una gran concentración de candidatos con 30 años de experiencia, se investiga más detalladamente si esos candidatos\n",
    "import seaborn as sns\n",
    "import matplotlib.pyplot as plt\n",
    "\n",
    "# Suponiendo que ya has cargado tu dataframe:\n",
    "sns.boxplot(x=dataframe_raw['YOE'])\n",
    "plt.show()"
   ]
  },
  {
   "cell_type": "code",
   "execution_count": 9,
   "metadata": {},
   "outputs": [
    {
     "name": "stdout",
     "output_type": "stream",
     "text": [
      "   Code Challenge Score  Technical Interview Score  hired\n",
      "0                     3                          3      0\n",
      "1                     2                         10      0\n",
      "2                    10                          9      1\n",
      "3                     7                          1      0\n",
      "4                     9                          7      1\n"
     ]
    }
   ],
   "source": [
    "import numpy as np\n",
    "\n",
    "# Crear la columna 'hired' basada en la condición de que ambas puntuaciones sean >= 7\n",
    "dataframe_raw['hired'] = np.where(\n",
    "    (dataframe_raw['Code Challenge Score'] >= 7) & (dataframe_raw['Technical Interview Score'] >= 7), \n",
    "    1, \n",
    "    0\n",
    ")\n",
    "\n",
    "# Ver las primeras filas del dataframe para verificar la nueva columna\n",
    "print(dataframe_raw[['Code Challenge Score', 'Technical Interview Score', 'hired']].head())"
   ]
  },
  {
   "cell_type": "code",
   "execution_count": 10,
   "metadata": {},
   "outputs": [],
   "source": [
    "#cargar los datos en postgres y leer de nuevo"
   ]
  },
  {
   "cell_type": "code",
   "execution_count": 11,
   "metadata": {},
   "outputs": [
    {
     "data": {
      "text/plain": [
       "1000"
      ]
     },
     "execution_count": 11,
     "metadata": {},
     "output_type": "execute_result"
    }
   ],
   "source": [
    "dataframe_raw.to_sql(\"candidates_hired\" ,con = db_conection.conn(), if_exists=\"replace\", index=False) #load into postgres"
   ]
  },
  {
   "cell_type": "code",
   "execution_count": 13,
   "metadata": {},
   "outputs": [],
   "source": [
    "get_all_data_hired = f\"SELECT * FROM candidates_hired\" #The query to get the data for the pd dataframe\n",
    "candidates_hired = pd.read_sql(get_all_data_hired,con = db_conection.conn())"
   ]
  },
  {
   "cell_type": "code",
   "execution_count": 14,
   "metadata": {},
   "outputs": [
    {
     "data": {
      "text/html": [
       "<div>\n",
       "<style scoped>\n",
       "    .dataframe tbody tr th:only-of-type {\n",
       "        vertical-align: middle;\n",
       "    }\n",
       "\n",
       "    .dataframe tbody tr th {\n",
       "        vertical-align: top;\n",
       "    }\n",
       "\n",
       "    .dataframe thead th {\n",
       "        text-align: right;\n",
       "    }\n",
       "</style>\n",
       "<table border=\"1\" class=\"dataframe\">\n",
       "  <thead>\n",
       "    <tr style=\"text-align: right;\">\n",
       "      <th></th>\n",
       "      <th>First Name</th>\n",
       "      <th>Last Name</th>\n",
       "      <th>Email</th>\n",
       "      <th>Application Date</th>\n",
       "      <th>Country</th>\n",
       "      <th>YOE</th>\n",
       "      <th>Seniority</th>\n",
       "      <th>Technology</th>\n",
       "      <th>Code Challenge Score</th>\n",
       "      <th>Technical Interview Score</th>\n",
       "      <th>hired</th>\n",
       "    </tr>\n",
       "  </thead>\n",
       "  <tbody>\n",
       "    <tr>\n",
       "      <th>0</th>\n",
       "      <td>Bernadette</td>\n",
       "      <td>Langworth</td>\n",
       "      <td>leonard91@yahoo.com</td>\n",
       "      <td>2021-02-26</td>\n",
       "      <td>Norway</td>\n",
       "      <td>2</td>\n",
       "      <td>Intern</td>\n",
       "      <td>Data Engineer</td>\n",
       "      <td>3</td>\n",
       "      <td>3</td>\n",
       "      <td>0</td>\n",
       "    </tr>\n",
       "    <tr>\n",
       "      <th>1</th>\n",
       "      <td>Camryn</td>\n",
       "      <td>Reynolds</td>\n",
       "      <td>zelda56@hotmail.com</td>\n",
       "      <td>2021-09-09</td>\n",
       "      <td>Panama</td>\n",
       "      <td>10</td>\n",
       "      <td>Intern</td>\n",
       "      <td>Data Engineer</td>\n",
       "      <td>2</td>\n",
       "      <td>10</td>\n",
       "      <td>0</td>\n",
       "    </tr>\n",
       "    <tr>\n",
       "      <th>2</th>\n",
       "      <td>Larue</td>\n",
       "      <td>Spinka</td>\n",
       "      <td>okey_schultz41@gmail.com</td>\n",
       "      <td>2020-04-14</td>\n",
       "      <td>Belarus</td>\n",
       "      <td>4</td>\n",
       "      <td>Mid-Level</td>\n",
       "      <td>Client Success</td>\n",
       "      <td>10</td>\n",
       "      <td>9</td>\n",
       "      <td>1</td>\n",
       "    </tr>\n",
       "    <tr>\n",
       "      <th>3</th>\n",
       "      <td>Arch</td>\n",
       "      <td>Spinka</td>\n",
       "      <td>elvera_kulas@yahoo.com</td>\n",
       "      <td>2020-10-01</td>\n",
       "      <td>Eritrea</td>\n",
       "      <td>25</td>\n",
       "      <td>Trainee</td>\n",
       "      <td>QA Manual</td>\n",
       "      <td>7</td>\n",
       "      <td>1</td>\n",
       "      <td>0</td>\n",
       "    </tr>\n",
       "    <tr>\n",
       "      <th>4</th>\n",
       "      <td>Larue</td>\n",
       "      <td>Altenwerth</td>\n",
       "      <td>minnie.gislason@gmail.com</td>\n",
       "      <td>2020-05-20</td>\n",
       "      <td>Myanmar</td>\n",
       "      <td>13</td>\n",
       "      <td>Mid-Level</td>\n",
       "      <td>Social Media Community Management</td>\n",
       "      <td>9</td>\n",
       "      <td>7</td>\n",
       "      <td>1</td>\n",
       "    </tr>\n",
       "    <tr>\n",
       "      <th>...</th>\n",
       "      <td>...</td>\n",
       "      <td>...</td>\n",
       "      <td>...</td>\n",
       "      <td>...</td>\n",
       "      <td>...</td>\n",
       "      <td>...</td>\n",
       "      <td>...</td>\n",
       "      <td>...</td>\n",
       "      <td>...</td>\n",
       "      <td>...</td>\n",
       "      <td>...</td>\n",
       "    </tr>\n",
       "    <tr>\n",
       "      <th>49995</th>\n",
       "      <td>Bethany</td>\n",
       "      <td>Shields</td>\n",
       "      <td>rocky_mitchell@hotmail.com</td>\n",
       "      <td>2022-01-09</td>\n",
       "      <td>Dominican Republic</td>\n",
       "      <td>27</td>\n",
       "      <td>Trainee</td>\n",
       "      <td>Security</td>\n",
       "      <td>2</td>\n",
       "      <td>1</td>\n",
       "      <td>0</td>\n",
       "    </tr>\n",
       "    <tr>\n",
       "      <th>49996</th>\n",
       "      <td>Era</td>\n",
       "      <td>Swaniawski</td>\n",
       "      <td>dolores.roob@hotmail.com</td>\n",
       "      <td>2020-06-02</td>\n",
       "      <td>Morocco</td>\n",
       "      <td>21</td>\n",
       "      <td>Lead</td>\n",
       "      <td>Game Development</td>\n",
       "      <td>1</td>\n",
       "      <td>2</td>\n",
       "      <td>0</td>\n",
       "    </tr>\n",
       "    <tr>\n",
       "      <th>49997</th>\n",
       "      <td>Martin</td>\n",
       "      <td>Lakin</td>\n",
       "      <td>savanah.stracke@gmail.com</td>\n",
       "      <td>2018-12-15</td>\n",
       "      <td>Uganda</td>\n",
       "      <td>20</td>\n",
       "      <td>Trainee</td>\n",
       "      <td>System Administration</td>\n",
       "      <td>6</td>\n",
       "      <td>1</td>\n",
       "      <td>0</td>\n",
       "    </tr>\n",
       "    <tr>\n",
       "      <th>49998</th>\n",
       "      <td>Aliya</td>\n",
       "      <td>Abernathy</td>\n",
       "      <td>vivienne.fritsch@yahoo.com</td>\n",
       "      <td>2020-05-30</td>\n",
       "      <td>Czech Republic</td>\n",
       "      <td>20</td>\n",
       "      <td>Senior</td>\n",
       "      <td>Database Administration</td>\n",
       "      <td>0</td>\n",
       "      <td>0</td>\n",
       "      <td>0</td>\n",
       "    </tr>\n",
       "    <tr>\n",
       "      <th>49999</th>\n",
       "      <td>Coleman</td>\n",
       "      <td>Wisozk</td>\n",
       "      <td>abigayle.crooks@yahoo.com</td>\n",
       "      <td>2022-06-13</td>\n",
       "      <td>Palau</td>\n",
       "      <td>15</td>\n",
       "      <td>Intern</td>\n",
       "      <td>Mulesoft</td>\n",
       "      <td>3</td>\n",
       "      <td>1</td>\n",
       "      <td>0</td>\n",
       "    </tr>\n",
       "  </tbody>\n",
       "</table>\n",
       "<p>50000 rows × 11 columns</p>\n",
       "</div>"
      ],
      "text/plain": [
       "       First Name   Last Name                       Email Application Date  \\\n",
       "0      Bernadette   Langworth         leonard91@yahoo.com       2021-02-26   \n",
       "1          Camryn    Reynolds         zelda56@hotmail.com       2021-09-09   \n",
       "2           Larue      Spinka    okey_schultz41@gmail.com       2020-04-14   \n",
       "3            Arch      Spinka      elvera_kulas@yahoo.com       2020-10-01   \n",
       "4           Larue  Altenwerth   minnie.gislason@gmail.com       2020-05-20   \n",
       "...           ...         ...                         ...              ...   \n",
       "49995     Bethany     Shields  rocky_mitchell@hotmail.com       2022-01-09   \n",
       "49996         Era  Swaniawski    dolores.roob@hotmail.com       2020-06-02   \n",
       "49997      Martin       Lakin   savanah.stracke@gmail.com       2018-12-15   \n",
       "49998       Aliya   Abernathy  vivienne.fritsch@yahoo.com       2020-05-30   \n",
       "49999     Coleman      Wisozk   abigayle.crooks@yahoo.com       2022-06-13   \n",
       "\n",
       "                  Country  YOE  Seniority                         Technology  \\\n",
       "0                  Norway    2     Intern                      Data Engineer   \n",
       "1                  Panama   10     Intern                      Data Engineer   \n",
       "2                 Belarus    4  Mid-Level                     Client Success   \n",
       "3                 Eritrea   25    Trainee                          QA Manual   \n",
       "4                 Myanmar   13  Mid-Level  Social Media Community Management   \n",
       "...                   ...  ...        ...                                ...   \n",
       "49995  Dominican Republic   27    Trainee                           Security   \n",
       "49996             Morocco   21       Lead                   Game Development   \n",
       "49997              Uganda   20    Trainee              System Administration   \n",
       "49998      Czech Republic   20     Senior            Database Administration   \n",
       "49999               Palau   15     Intern                           Mulesoft   \n",
       "\n",
       "       Code Challenge Score  Technical Interview Score  hired  \n",
       "0                         3                          3      0  \n",
       "1                         2                         10      0  \n",
       "2                        10                          9      1  \n",
       "3                         7                          1      0  \n",
       "4                         9                          7      1  \n",
       "...                     ...                        ...    ...  \n",
       "49995                     2                          1      0  \n",
       "49996                     1                          2      0  \n",
       "49997                     6                          1      0  \n",
       "49998                     0                          0      0  \n",
       "49999                     3                          1      0  \n",
       "\n",
       "[50000 rows x 11 columns]"
      ]
     },
     "execution_count": 14,
     "metadata": {},
     "output_type": "execute_result"
    }
   ],
   "source": [
    "candidates_hired"
   ]
  },
  {
   "cell_type": "code",
   "execution_count": 16,
   "metadata": {},
   "outputs": [
    {
     "data": {
      "text/plain": [
       "hired\n",
       "0    43302\n",
       "1     6698\n",
       "Name: count, dtype: int64"
      ]
     },
     "execution_count": 16,
     "metadata": {},
     "output_type": "execute_result"
    }
   ],
   "source": [
    "candidates_hired.hired.value_counts()"
   ]
  },
  {
   "cell_type": "markdown",
   "metadata": {},
   "source": [
    "Hires by technology (pie chart)\n",
    "Hires by year (horizontal bar chart)\n",
    "Hires by seniority (bar chart)\n",
    "Hires by country over years (USA, Brazil, Colombia and Ecuador only) (multiline chart)"
   ]
  },
  {
   "cell_type": "markdown",
   "metadata": {},
   "source": [
    "<center> <font color=#3498DB><h2>VISUALIZACIONES</h2></font>  <h2>📊</h2> </center>"
   ]
  },
  {
   "cell_type": "code",
   "execution_count": 18,
   "metadata": {},
   "outputs": [
    {
     "data": {
      "image/png": "[encoded data removed]",
      "text/plain": [
       "<Figure size 800x800 with 1 Axes>"
      ]
     },
     "metadata": {},
     "output_type": "display_data"
    }
   ],
   "source": [
    "#Hires by technology (pie chart)\n",
    "Number_of_hires = candidates_hired['hired'].value_counts()\n",
    "\n",
    "plt.figure(figsize=(8, 8))\n",
    "plt.pie(Number_of_hires, labels=Number_of_hires.index, autopct='%1.1f%%', colors=['pink', 'purple'])\n",
    "\n",
    "plt.title('Percentage of Candidates Recruited')\n",
    "\n",
    "plt.show()"
   ]
  },
  {
   "cell_type": "code",
   "execution_count": 20,
   "metadata": {},
   "outputs": [
    {
     "data": {
      "image/png": "[encoded data removed]",
      "text/plain": [
       "<Figure size 640x480 with 1 Axes>"
      ]
     },
     "metadata": {},
     "output_type": "display_data"
    }
   ],
   "source": [
    "#Hires by year (horizontal bar chart)\n",
    "hby = pd.to_datetime(candidates_hired[\"Application Date\"],format=\"%Y-%m-%d\")#change the format for extract the year in each register\n",
    "candidates_hired[\"Year\"] = hby.dt.year #create the column year and set just the year from the column Application Date\n",
    "hires_by_year = candidates_hired.groupby(\"Year\").size() #group by year and get the unique values from this column\n",
    "is_hire = candidates_hired[candidates_hired[\"hired\"]==1] #create the dataset when just have the registers where they are hired\n",
    "hires_by_year_hired = is_hire.groupby(\"Year\").size()\n",
    "\n",
    "\n",
    "fig, ax = plt.subplots()\n",
    "max_year = hires_by_year.idxmax()\n",
    "max_hires = hires_by_year.max()\n",
    "ax.barh(hires_by_year.index, hires_by_year.values, color=\"orange\", edgecolor=\"#148B41\")\n",
    "ax.set_ylabel(\"year\")\n",
    "ax.set_xlabel(\"Hires\")\n",
    "ax.set_title(\"Hires By Year\")\n",
    "ax.autoscale()\n",
    "ax.axvline(max_hires, color='red', linestyle='--')\n",
    "ax.text(max_hires, max_year, f'{max_hires}', va='center', ha='right', color='blue')\n",
    "plt.show()"
   ]
  },
  {
   "cell_type": "code",
   "execution_count": null,
   "metadata": {},
   "outputs": [],
   "source": [
    "is_hire = candidates_hired[candidates_hired[\"Hired\"]==1]\n",
    "hires_by_year_hired = is_hire.groupby(\"Year\").size()\n",
    "\n",
    "fig, ax = plt.subplots()\n",
    "max_year_hired = hires_by_year_hired.idxmax()\n",
    "max_hires_hired = hires_by_year_hired.max()\n",
    "ax.barh(hires_by_year_hired.index, hires_by_year_hired.values, color=\"#20E86C\", edgecolor=\"#148B41\")\n",
    "ax.set_ylabel(\"year\")\n",
    "ax.set_xlabel(\"Hired\")\n",
    "ax.set_title(\"Hires By Year hired\")\n",
    "ax.autoscale()\n",
    "ax.axvline(max_hires_hired, color='red', linestyle='--')\n",
    "ax.text(max_hires_hired, max_year_hired, f'{max_hires_hired}', va='center', ha='right', color='blue')\n",
    "plt.show()"
   ]
  },
  {
   "cell_type": "code",
   "execution_count": null,
   "metadata": {},
   "outputs": [],
   "source": [
    "#Hires by seniority (bar chart)\n",
    "hired_by_seniority = candidates_hired.groupby(\"Seniority\").size()\n",
    "hired_by_seniority_h = is_hire.groupby(\"Seniority\").size()\n",
    "hired_by_seniority\n",
    "\n",
    "fig, ax = plt.subplots()\n",
    "\n",
    "ax.bar(hired_by_seniority.index, hired_by_seniority.values)\n",
    "ax.set_title(\"hires by seniority\")\n",
    "ax.set(xlabel=\"Seniority category\", ylabel=\"Amount\")\n",
    "ax.grid(True, axis=\"y\", linestyle=\"--\", color=\"skyblue\")\n",
    "ax.scatter(hired_by_seniority.idxmax(),hired_by_seniority.max(), marker=\"x\", color=\"black\", s=50, label=\"More applications\")\n",
    "ax.legend(loc=\"lower center\")\n",
    "plt.show()\n",
    "\n",
    "\n",
    "fig, ax = plt.subplots()\n",
    "ax.bar(hired_by_seniority_h.index, hired_by_seniority_h.values, color=\"#0ED507\")\n",
    "ax.set(xlabel=\"Seniority\", ylabel=\"Hired amount\")\n",
    "ax.set_title(\"Hired\")\n",
    "ax.grid(True, axis=\"y\", color=\"skyblue\", linestyle=\"--\")\n",
    "ax.text(hired_by_seniority_h.idxmax(),hired_by_seniority_h.max()-50,f\"{hired_by_seniority_h.max()}\", va=\"center\", ha=\"center\")\n",
    "ax.scatter(x=hired_by_seniority_h.idxmax(), y=hired_by_seniority_h.max()+30, marker=\"v\", color=\"black\", label=\"Max_hires_by_Seniority\")\n",
    "ax.legend(loc=\"lower center\")\n",
    "plt.show()"
   ]
  },
  {
   "cell_type": "code",
   "execution_count": null,
   "metadata": {},
   "outputs": [],
   "source": [
    "Hired_by_seniority_counts = candidates_hired[candidates_hired['Hired'] == 'Yes']['Seniority'].value_counts()\n",
    "\n",
    "plt.figure(figsize=(8, 8))\n",
    "plt.pie(Hired_by_seniority_counts, labels=Hired_by_seniority_counts.index, autopct='%1.1f%%', colors=sns.color_palette('pastel'), startangle=140)\n",
    "plt.title('Distribution of Hires by Seniority')\n",
    "plt.show()"
   ]
  },
  {
   "cell_type": "code",
   "execution_count": null,
   "metadata": {},
   "outputs": [],
   "source": [
    "seniority_categories = candidates_hired['Seniority'].unique()\n",
    "\n",
    "yoe_averages = []\n",
    "\n",
    "for category in seniority_categories:\n",
    "    average_yoe = candidates_hired[candidates_hired['Seniority'] == category]['YOE'].mean()\n",
    "    yoe_averages.append(average_yoe)\n",
    "\n",
    "plt.figure(figsize=(10, 6))\n",
    "bars = plt.bar(seniority_categories, yoe_averages, color= green_yellow_palette)\n",
    "\n",
    "for bar in bars:\n",
    "    yval = bar.get_height()\n",
    "    plt.text(bar.get_x() + bar.get_width()/2, yval, round(yval, 2), ha='center', va='bottom')\n",
    "\n",
    "plt.title('Average Years of Experience by Seniority Category')\n",
    "plt.xlabel('Seniority Category')\n",
    "plt.ylabel('Average Years of Experience')\n",
    "plt.show()"
   ]
  },
  {
   "cell_type": "code",
   "execution_count": null,
   "metadata": {},
   "outputs": [],
   "source": [
    "##Hires by country over years (USA, Brazil, Colombia and Ecuador only) (multiline chart)\n",
    "countries_list = ['United States of America', 'Brazil', 'Colombia', 'Ecuador']\n",
    "\n",
    "plt.figure(figsize=(10, 6))\n",
    "for country in countries_list:\n",
    "    by_country = candidates_hired[candidates_hired['Country'] == country]\n",
    "    plt.plot(by_country['Year'], by_country['Hires'], marker='o', label=country)\n",
    "\n",
    "plt.xlabel('Year')\n",
    "plt.ylabel('Hires')\n",
    "plt.title('Hires by Country Over Years (USA, Brazil, Colombia, and Ecuador)')\n",
    "plt.legend()\n",
    "plt.xticks(candidates_hired['Year'].unique())\n",
    "plt.grid(True)\n",
    "plt.show()"
   ]
  },
  {
   "cell_type": "code",
   "execution_count": null,
   "metadata": {},
   "outputs": [],
   "source": [
    "#separeted aplication date \n",
    "candidates_hired['ApplicationDate'] = pd.to_datetime(candidates_hired['ApplicationDate'], format='mixed')\n",
    "candidates_hired['Year'] = candidates_hired['ApplicationDate'].dt.year\n",
    "candidates_hired['MonthName'] = candidates_hired['ApplicationDate'].dt.month_name()\n",
    "candidates_hired['Month'] = candidates_hired['ApplicationDate'].dt.month\n",
    "\n",
    "\n",
    "candidates_hired['Year'].value_counts()['Year'].value_counts()"
   ]
  }
 ],
 "metadata": {
  "kernelspec": {
   "display_name": "workshop1",
   "language": "python",
   "name": "python3"
  },
  "language_info": {
   "codemirror_mode": {
    "name": "ipython",
    "version": 3
   },
   "file_extension": ".py",
   "mimetype": "text/x-python",
   "name": "python",
   "nbconvert_exporter": "python",
   "pygments_lexer": "ipython3",
   "version": "3.12.4"
  }
 },
 "nbformat": 4,
 "nbformat_minor": 2
}
